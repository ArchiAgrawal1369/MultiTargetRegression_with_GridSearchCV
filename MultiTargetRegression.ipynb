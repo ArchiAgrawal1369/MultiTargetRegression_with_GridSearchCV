{
  "cells": [
    {
      "cell_type": "code",
      "execution_count": 3,
      "metadata": {
        "colab": {
          "base_uri": "https://localhost:8080/"
        },
        "id": "IxaD1sLCjtab",
        "outputId": "71389fb2-a11b-47ec-f867-419a904442f4"
      },
      "outputs": [
        {
          "output_type": "stream",
          "name": "stdout",
          "text": [
            "Drive already mounted at /content/drive; to attempt to forcibly remount, call drive.mount(\"/content/drive\", force_remount=True).\n"
          ]
        }
      ],
      "source": [
        "from google.colab import drive\n",
        "drive.mount('/content/drive')"
      ]
    },
    {
      "cell_type": "code",
      "execution_count": 4,
      "metadata": {
        "id": "DVmYHhVbggWc"
      },
      "outputs": [],
      "source": [
        "# Import necessary libraries\n",
        "import warnings\n",
        "warnings.filterwarnings(\"ignore\")\n",
        "import pandas as pd\n",
        "import numpy as np\n",
        "import matplotlib.pyplot as plt\n",
        "import scipy.stats as stats\n",
        "import math\n",
        "from sklearn.model_selection import train_test_split\n",
        "from sklearn.datasets import make_regression\n",
        "from sklearn.ensemble import RandomForestRegressor\n",
        "from sklearn.tree import DecisionTreeRegressor\n",
        "from sklearn.linear_model import LinearRegression\n",
        "from sklearn.model_selection import GridSearchCV\n",
        "from sklearn.metrics import mean_squared_error\n",
        "%matplotlib inline"
      ]
    },
    {
      "cell_type": "code",
      "execution_count": 5,
      "metadata": {
        "id": "i97n7vUpjkGP"
      },
      "outputs": [],
      "source": [
        "# Read the file\n",
        "\n",
        "df=pd.read_csv('/content/drive/MyDrive/Colab Notebook/TrainingDataset[98].csv')"
      ]
    },
    {
      "cell_type": "code",
      "execution_count": 6,
      "metadata": {
        "colab": {
          "base_uri": "https://localhost:8080/"
        },
        "id": "ku1ZxYtIk9We",
        "outputId": "61594a56-961c-42be-84f5-7cf4f4539b27"
      },
      "outputs": [
        {
          "output_type": "execute_result",
          "data": {
            "text/plain": [
              "(751, 558)"
            ]
          },
          "metadata": {},
          "execution_count": 6
        }
      ],
      "source": [
        "df.shape"
      ]
    },
    {
      "cell_type": "code",
      "execution_count": 7,
      "metadata": {
        "colab": {
          "base_uri": "https://localhost:8080/"
        },
        "id": "EOrMQLhYlKXR",
        "outputId": "d6ca7eeb-1e13-430d-a15b-f8d40ab303c2"
      },
      "outputs": [
        {
          "output_type": "execute_result",
          "data": {
            "text/plain": [
              "Index(['Outcome_M1', 'Outcome_M2', 'Outcome_M3', 'Outcome_M4', 'Outcome_M5',\n",
              "       'Outcome_M6', 'Outcome_M7', 'Outcome_M8', 'Outcome_M9', 'Outcome_M10',\n",
              "       ...\n",
              "       'Cat_505', 'Cat_506', 'Cat_507', 'Cat_508', 'Cat_509', 'Cat_510',\n",
              "       'Cat_511', 'Cat_512', 'Cat_513', 'Cat_514'],\n",
              "      dtype='object', length=558)"
            ]
          },
          "metadata": {},
          "execution_count": 7
        }
      ],
      "source": [
        "df.columns"
      ]
    },
    {
      "cell_type": "code",
      "execution_count": 8,
      "metadata": {
        "colab": {
          "base_uri": "https://localhost:8080/"
        },
        "id": "ISP7vXG6TOAv",
        "outputId": "051d7dd1-dbd0-41de-816c-d843e6b56ac5"
      },
      "outputs": [
        {
          "output_type": "execute_result",
          "data": {
            "text/plain": [
              "Index(['Outcome_M11', 'Outcome_M12', 'Cat_1', 'Date_1', 'Quan_1', 'Quan_2',\n",
              "       'Quan_3', 'Quan_4', 'Date_2', 'Quan_5', 'Quan_6', 'Quan_7', 'Quan_8',\n",
              "       'Quan_9', 'Quan_10', 'Quan_11', 'Quan_12', 'Quan_13', 'Quan_14',\n",
              "       'Cat_2', 'Cat_3', 'Cat_4', 'Cat_5', 'Cat_6', 'Cat_7'],\n",
              "      dtype='object')"
            ]
          },
          "metadata": {},
          "execution_count": 8
        }
      ],
      "source": [
        "# To read additional columns\n",
        "\n",
        "df.columns[10:35]"
      ]
    },
    {
      "cell_type": "markdown",
      "source": [
        "### Data Preprocessing"
      ],
      "metadata": {
        "id": "DGp2a5LysLie"
      }
    },
    {
      "cell_type": "code",
      "source": [
        "# Assign target labels to variable month\n",
        "\n",
        "month=df.columns[0:12].tolist()"
      ],
      "metadata": {
        "id": "mzaMr0kcI3FJ"
      },
      "execution_count": 9,
      "outputs": []
    },
    {
      "cell_type": "code",
      "source": [
        "# Add a coloumn 'year' which is a sum of all monthly sales\n",
        "\n",
        "df['year']=df[month].sum(axis=1)\n",
        "df[['year']]"
      ],
      "metadata": {
        "colab": {
          "base_uri": "https://localhost:8080/",
          "height": 424
        },
        "id": "3l8jKe7GIy9T",
        "outputId": "2114b141-686f-4ae0-afcb-c24f5980bef6"
      },
      "execution_count": 10,
      "outputs": [
        {
          "output_type": "execute_result",
          "data": {
            "text/plain": [
              "         year\n",
              "0     33500.0\n",
              "1     32000.0\n",
              "2     43500.0\n",
              "3     81000.0\n",
              "4     24500.0\n",
              "..        ...\n",
              "746  105500.0\n",
              "747   13500.0\n",
              "748   24000.0\n",
              "749   26500.0\n",
              "750   43500.0\n",
              "\n",
              "[751 rows x 1 columns]"
            ],
            "text/html": [
              "\n",
              "  <div id=\"df-879996d8-9072-4ce2-87ef-f1313313371b\">\n",
              "    <div class=\"colab-df-container\">\n",
              "      <div>\n",
              "<style scoped>\n",
              "    .dataframe tbody tr th:only-of-type {\n",
              "        vertical-align: middle;\n",
              "    }\n",
              "\n",
              "    .dataframe tbody tr th {\n",
              "        vertical-align: top;\n",
              "    }\n",
              "\n",
              "    .dataframe thead th {\n",
              "        text-align: right;\n",
              "    }\n",
              "</style>\n",
              "<table border=\"1\" class=\"dataframe\">\n",
              "  <thead>\n",
              "    <tr style=\"text-align: right;\">\n",
              "      <th></th>\n",
              "      <th>year</th>\n",
              "    </tr>\n",
              "  </thead>\n",
              "  <tbody>\n",
              "    <tr>\n",
              "      <th>0</th>\n",
              "      <td>33500.0</td>\n",
              "    </tr>\n",
              "    <tr>\n",
              "      <th>1</th>\n",
              "      <td>32000.0</td>\n",
              "    </tr>\n",
              "    <tr>\n",
              "      <th>2</th>\n",
              "      <td>43500.0</td>\n",
              "    </tr>\n",
              "    <tr>\n",
              "      <th>3</th>\n",
              "      <td>81000.0</td>\n",
              "    </tr>\n",
              "    <tr>\n",
              "      <th>4</th>\n",
              "      <td>24500.0</td>\n",
              "    </tr>\n",
              "    <tr>\n",
              "      <th>...</th>\n",
              "      <td>...</td>\n",
              "    </tr>\n",
              "    <tr>\n",
              "      <th>746</th>\n",
              "      <td>105500.0</td>\n",
              "    </tr>\n",
              "    <tr>\n",
              "      <th>747</th>\n",
              "      <td>13500.0</td>\n",
              "    </tr>\n",
              "    <tr>\n",
              "      <th>748</th>\n",
              "      <td>24000.0</td>\n",
              "    </tr>\n",
              "    <tr>\n",
              "      <th>749</th>\n",
              "      <td>26500.0</td>\n",
              "    </tr>\n",
              "    <tr>\n",
              "      <th>750</th>\n",
              "      <td>43500.0</td>\n",
              "    </tr>\n",
              "  </tbody>\n",
              "</table>\n",
              "<p>751 rows × 1 columns</p>\n",
              "</div>\n",
              "      <button class=\"colab-df-convert\" onclick=\"convertToInteractive('df-879996d8-9072-4ce2-87ef-f1313313371b')\"\n",
              "              title=\"Convert this dataframe to an interactive table.\"\n",
              "              style=\"display:none;\">\n",
              "        \n",
              "  <svg xmlns=\"http://www.w3.org/2000/svg\" height=\"24px\"viewBox=\"0 0 24 24\"\n",
              "       width=\"24px\">\n",
              "    <path d=\"M0 0h24v24H0V0z\" fill=\"none\"/>\n",
              "    <path d=\"M18.56 5.44l.94 2.06.94-2.06 2.06-.94-2.06-.94-.94-2.06-.94 2.06-2.06.94zm-11 1L8.5 8.5l.94-2.06 2.06-.94-2.06-.94L8.5 2.5l-.94 2.06-2.06.94zm10 10l.94 2.06.94-2.06 2.06-.94-2.06-.94-.94-2.06-.94 2.06-2.06.94z\"/><path d=\"M17.41 7.96l-1.37-1.37c-.4-.4-.92-.59-1.43-.59-.52 0-1.04.2-1.43.59L10.3 9.45l-7.72 7.72c-.78.78-.78 2.05 0 2.83L4 21.41c.39.39.9.59 1.41.59.51 0 1.02-.2 1.41-.59l7.78-7.78 2.81-2.81c.8-.78.8-2.07 0-2.86zM5.41 20L4 18.59l7.72-7.72 1.47 1.35L5.41 20z\"/>\n",
              "  </svg>\n",
              "      </button>\n",
              "      \n",
              "  <style>\n",
              "    .colab-df-container {\n",
              "      display:flex;\n",
              "      flex-wrap:wrap;\n",
              "      gap: 12px;\n",
              "    }\n",
              "\n",
              "    .colab-df-convert {\n",
              "      background-color: #E8F0FE;\n",
              "      border: none;\n",
              "      border-radius: 50%;\n",
              "      cursor: pointer;\n",
              "      display: none;\n",
              "      fill: #1967D2;\n",
              "      height: 32px;\n",
              "      padding: 0 0 0 0;\n",
              "      width: 32px;\n",
              "    }\n",
              "\n",
              "    .colab-df-convert:hover {\n",
              "      background-color: #E2EBFA;\n",
              "      box-shadow: 0px 1px 2px rgba(60, 64, 67, 0.3), 0px 1px 3px 1px rgba(60, 64, 67, 0.15);\n",
              "      fill: #174EA6;\n",
              "    }\n",
              "\n",
              "    [theme=dark] .colab-df-convert {\n",
              "      background-color: #3B4455;\n",
              "      fill: #D2E3FC;\n",
              "    }\n",
              "\n",
              "    [theme=dark] .colab-df-convert:hover {\n",
              "      background-color: #434B5C;\n",
              "      box-shadow: 0px 1px 3px 1px rgba(0, 0, 0, 0.15);\n",
              "      filter: drop-shadow(0px 1px 2px rgba(0, 0, 0, 0.3));\n",
              "      fill: #FFFFFF;\n",
              "    }\n",
              "  </style>\n",
              "\n",
              "      <script>\n",
              "        const buttonEl =\n",
              "          document.querySelector('#df-879996d8-9072-4ce2-87ef-f1313313371b button.colab-df-convert');\n",
              "        buttonEl.style.display =\n",
              "          google.colab.kernel.accessAllowed ? 'block' : 'none';\n",
              "\n",
              "        async function convertToInteractive(key) {\n",
              "          const element = document.querySelector('#df-879996d8-9072-4ce2-87ef-f1313313371b');\n",
              "          const dataTable =\n",
              "            await google.colab.kernel.invokeFunction('convertToInteractive',\n",
              "                                                     [key], {});\n",
              "          if (!dataTable) return;\n",
              "\n",
              "          const docLinkHtml = 'Like what you see? Visit the ' +\n",
              "            '<a target=\"_blank\" href=https://colab.research.google.com/notebooks/data_table.ipynb>data table notebook</a>'\n",
              "            + ' to learn more about interactive tables.';\n",
              "          element.innerHTML = '';\n",
              "          dataTable['output_type'] = 'display_data';\n",
              "          await google.colab.output.renderOutput(dataTable, element);\n",
              "          const docLink = document.createElement('div');\n",
              "          docLink.innerHTML = docLinkHtml;\n",
              "          element.appendChild(docLink);\n",
              "        }\n",
              "      </script>\n",
              "    </div>\n",
              "  </div>\n",
              "  "
            ]
          },
          "metadata": {},
          "execution_count": 10
        }
      ]
    },
    {
      "cell_type": "code",
      "execution_count": 11,
      "metadata": {
        "colab": {
          "base_uri": "https://localhost:8080/",
          "height": 300
        },
        "id": "lmMejfqMk6Os",
        "outputId": "5569c13b-9310-45a1-e19c-bd1ead81f28f"
      },
      "outputs": [
        {
          "output_type": "execute_result",
          "data": {
            "text/plain": [
              "   Outcome_M1  Outcome_M2  Outcome_M3  Outcome_M4  Outcome_M5  Outcome_M6  \\\n",
              "0       10000      3000.0      8000.0      3000.0      3000.0      2000.0   \n",
              "1        8000      8000.0      2000.0      3000.0      2000.0       500.0   \n",
              "2        5000     15000.0      8000.0      3000.0      3000.0      2000.0   \n",
              "3       35000      8000.0      8000.0      5000.0      5000.0      3000.0   \n",
              "4       16000      2000.0      2000.0       500.0       500.0       500.0   \n",
              "\n",
              "   Outcome_M7  Outcome_M8  Outcome_M9  Outcome_M10  ...  Cat_506  Cat_507  \\\n",
              "0      2000.0       500.0       500.0        500.0  ...        0        0   \n",
              "1      2000.0      2000.0      3000.0        500.0  ...        0        0   \n",
              "2      2000.0      2000.0      2000.0        500.0  ...        0        0   \n",
              "3      2000.0      3000.0      6000.0       2000.0  ...        0        0   \n",
              "4       500.0       500.0       500.0        500.0  ...        0        0   \n",
              "\n",
              "   Cat_508  Cat_509  Cat_510  Cat_511  Cat_512  Cat_513  Cat_514     year  \n",
              "0        1        0        1        0        0        0        1  33500.0  \n",
              "1        1        0        0        0        0        0        1  32000.0  \n",
              "2        1        0        0        0        0        0        1  43500.0  \n",
              "3        1        0        1        0        0        0        1  81000.0  \n",
              "4        1        0        1        0        0        0        1  24500.0  \n",
              "\n",
              "[5 rows x 557 columns]"
            ],
            "text/html": [
              "\n",
              "  <div id=\"df-83e35805-abe5-4d71-af4e-761fe87c2722\">\n",
              "    <div class=\"colab-df-container\">\n",
              "      <div>\n",
              "<style scoped>\n",
              "    .dataframe tbody tr th:only-of-type {\n",
              "        vertical-align: middle;\n",
              "    }\n",
              "\n",
              "    .dataframe tbody tr th {\n",
              "        vertical-align: top;\n",
              "    }\n",
              "\n",
              "    .dataframe thead th {\n",
              "        text-align: right;\n",
              "    }\n",
              "</style>\n",
              "<table border=\"1\" class=\"dataframe\">\n",
              "  <thead>\n",
              "    <tr style=\"text-align: right;\">\n",
              "      <th></th>\n",
              "      <th>Outcome_M1</th>\n",
              "      <th>Outcome_M2</th>\n",
              "      <th>Outcome_M3</th>\n",
              "      <th>Outcome_M4</th>\n",
              "      <th>Outcome_M5</th>\n",
              "      <th>Outcome_M6</th>\n",
              "      <th>Outcome_M7</th>\n",
              "      <th>Outcome_M8</th>\n",
              "      <th>Outcome_M9</th>\n",
              "      <th>Outcome_M10</th>\n",
              "      <th>...</th>\n",
              "      <th>Cat_506</th>\n",
              "      <th>Cat_507</th>\n",
              "      <th>Cat_508</th>\n",
              "      <th>Cat_509</th>\n",
              "      <th>Cat_510</th>\n",
              "      <th>Cat_511</th>\n",
              "      <th>Cat_512</th>\n",
              "      <th>Cat_513</th>\n",
              "      <th>Cat_514</th>\n",
              "      <th>year</th>\n",
              "    </tr>\n",
              "  </thead>\n",
              "  <tbody>\n",
              "    <tr>\n",
              "      <th>0</th>\n",
              "      <td>10000</td>\n",
              "      <td>3000.0</td>\n",
              "      <td>8000.0</td>\n",
              "      <td>3000.0</td>\n",
              "      <td>3000.0</td>\n",
              "      <td>2000.0</td>\n",
              "      <td>2000.0</td>\n",
              "      <td>500.0</td>\n",
              "      <td>500.0</td>\n",
              "      <td>500.0</td>\n",
              "      <td>...</td>\n",
              "      <td>0</td>\n",
              "      <td>0</td>\n",
              "      <td>1</td>\n",
              "      <td>0</td>\n",
              "      <td>1</td>\n",
              "      <td>0</td>\n",
              "      <td>0</td>\n",
              "      <td>0</td>\n",
              "      <td>1</td>\n",
              "      <td>33500.0</td>\n",
              "    </tr>\n",
              "    <tr>\n",
              "      <th>1</th>\n",
              "      <td>8000</td>\n",
              "      <td>8000.0</td>\n",
              "      <td>2000.0</td>\n",
              "      <td>3000.0</td>\n",
              "      <td>2000.0</td>\n",
              "      <td>500.0</td>\n",
              "      <td>2000.0</td>\n",
              "      <td>2000.0</td>\n",
              "      <td>3000.0</td>\n",
              "      <td>500.0</td>\n",
              "      <td>...</td>\n",
              "      <td>0</td>\n",
              "      <td>0</td>\n",
              "      <td>1</td>\n",
              "      <td>0</td>\n",
              "      <td>0</td>\n",
              "      <td>0</td>\n",
              "      <td>0</td>\n",
              "      <td>0</td>\n",
              "      <td>1</td>\n",
              "      <td>32000.0</td>\n",
              "    </tr>\n",
              "    <tr>\n",
              "      <th>2</th>\n",
              "      <td>5000</td>\n",
              "      <td>15000.0</td>\n",
              "      <td>8000.0</td>\n",
              "      <td>3000.0</td>\n",
              "      <td>3000.0</td>\n",
              "      <td>2000.0</td>\n",
              "      <td>2000.0</td>\n",
              "      <td>2000.0</td>\n",
              "      <td>2000.0</td>\n",
              "      <td>500.0</td>\n",
              "      <td>...</td>\n",
              "      <td>0</td>\n",
              "      <td>0</td>\n",
              "      <td>1</td>\n",
              "      <td>0</td>\n",
              "      <td>0</td>\n",
              "      <td>0</td>\n",
              "      <td>0</td>\n",
              "      <td>0</td>\n",
              "      <td>1</td>\n",
              "      <td>43500.0</td>\n",
              "    </tr>\n",
              "    <tr>\n",
              "      <th>3</th>\n",
              "      <td>35000</td>\n",
              "      <td>8000.0</td>\n",
              "      <td>8000.0</td>\n",
              "      <td>5000.0</td>\n",
              "      <td>5000.0</td>\n",
              "      <td>3000.0</td>\n",
              "      <td>2000.0</td>\n",
              "      <td>3000.0</td>\n",
              "      <td>6000.0</td>\n",
              "      <td>2000.0</td>\n",
              "      <td>...</td>\n",
              "      <td>0</td>\n",
              "      <td>0</td>\n",
              "      <td>1</td>\n",
              "      <td>0</td>\n",
              "      <td>1</td>\n",
              "      <td>0</td>\n",
              "      <td>0</td>\n",
              "      <td>0</td>\n",
              "      <td>1</td>\n",
              "      <td>81000.0</td>\n",
              "    </tr>\n",
              "    <tr>\n",
              "      <th>4</th>\n",
              "      <td>16000</td>\n",
              "      <td>2000.0</td>\n",
              "      <td>2000.0</td>\n",
              "      <td>500.0</td>\n",
              "      <td>500.0</td>\n",
              "      <td>500.0</td>\n",
              "      <td>500.0</td>\n",
              "      <td>500.0</td>\n",
              "      <td>500.0</td>\n",
              "      <td>500.0</td>\n",
              "      <td>...</td>\n",
              "      <td>0</td>\n",
              "      <td>0</td>\n",
              "      <td>1</td>\n",
              "      <td>0</td>\n",
              "      <td>1</td>\n",
              "      <td>0</td>\n",
              "      <td>0</td>\n",
              "      <td>0</td>\n",
              "      <td>1</td>\n",
              "      <td>24500.0</td>\n",
              "    </tr>\n",
              "  </tbody>\n",
              "</table>\n",
              "<p>5 rows × 557 columns</p>\n",
              "</div>\n",
              "      <button class=\"colab-df-convert\" onclick=\"convertToInteractive('df-83e35805-abe5-4d71-af4e-761fe87c2722')\"\n",
              "              title=\"Convert this dataframe to an interactive table.\"\n",
              "              style=\"display:none;\">\n",
              "        \n",
              "  <svg xmlns=\"http://www.w3.org/2000/svg\" height=\"24px\"viewBox=\"0 0 24 24\"\n",
              "       width=\"24px\">\n",
              "    <path d=\"M0 0h24v24H0V0z\" fill=\"none\"/>\n",
              "    <path d=\"M18.56 5.44l.94 2.06.94-2.06 2.06-.94-2.06-.94-.94-2.06-.94 2.06-2.06.94zm-11 1L8.5 8.5l.94-2.06 2.06-.94-2.06-.94L8.5 2.5l-.94 2.06-2.06.94zm10 10l.94 2.06.94-2.06 2.06-.94-2.06-.94-.94-2.06-.94 2.06-2.06.94z\"/><path d=\"M17.41 7.96l-1.37-1.37c-.4-.4-.92-.59-1.43-.59-.52 0-1.04.2-1.43.59L10.3 9.45l-7.72 7.72c-.78.78-.78 2.05 0 2.83L4 21.41c.39.39.9.59 1.41.59.51 0 1.02-.2 1.41-.59l7.78-7.78 2.81-2.81c.8-.78.8-2.07 0-2.86zM5.41 20L4 18.59l7.72-7.72 1.47 1.35L5.41 20z\"/>\n",
              "  </svg>\n",
              "      </button>\n",
              "      \n",
              "  <style>\n",
              "    .colab-df-container {\n",
              "      display:flex;\n",
              "      flex-wrap:wrap;\n",
              "      gap: 12px;\n",
              "    }\n",
              "\n",
              "    .colab-df-convert {\n",
              "      background-color: #E8F0FE;\n",
              "      border: none;\n",
              "      border-radius: 50%;\n",
              "      cursor: pointer;\n",
              "      display: none;\n",
              "      fill: #1967D2;\n",
              "      height: 32px;\n",
              "      padding: 0 0 0 0;\n",
              "      width: 32px;\n",
              "    }\n",
              "\n",
              "    .colab-df-convert:hover {\n",
              "      background-color: #E2EBFA;\n",
              "      box-shadow: 0px 1px 2px rgba(60, 64, 67, 0.3), 0px 1px 3px 1px rgba(60, 64, 67, 0.15);\n",
              "      fill: #174EA6;\n",
              "    }\n",
              "\n",
              "    [theme=dark] .colab-df-convert {\n",
              "      background-color: #3B4455;\n",
              "      fill: #D2E3FC;\n",
              "    }\n",
              "\n",
              "    [theme=dark] .colab-df-convert:hover {\n",
              "      background-color: #434B5C;\n",
              "      box-shadow: 0px 1px 3px 1px rgba(0, 0, 0, 0.15);\n",
              "      filter: drop-shadow(0px 1px 2px rgba(0, 0, 0, 0.3));\n",
              "      fill: #FFFFFF;\n",
              "    }\n",
              "  </style>\n",
              "\n",
              "      <script>\n",
              "        const buttonEl =\n",
              "          document.querySelector('#df-83e35805-abe5-4d71-af4e-761fe87c2722 button.colab-df-convert');\n",
              "        buttonEl.style.display =\n",
              "          google.colab.kernel.accessAllowed ? 'block' : 'none';\n",
              "\n",
              "        async function convertToInteractive(key) {\n",
              "          const element = document.querySelector('#df-83e35805-abe5-4d71-af4e-761fe87c2722');\n",
              "          const dataTable =\n",
              "            await google.colab.kernel.invokeFunction('convertToInteractive',\n",
              "                                                     [key], {});\n",
              "          if (!dataTable) return;\n",
              "\n",
              "          const docLinkHtml = 'Like what you see? Visit the ' +\n",
              "            '<a target=\"_blank\" href=https://colab.research.google.com/notebooks/data_table.ipynb>data table notebook</a>'\n",
              "            + ' to learn more about interactive tables.';\n",
              "          element.innerHTML = '';\n",
              "          dataTable['output_type'] = 'display_data';\n",
              "          await google.colab.output.renderOutput(dataTable, element);\n",
              "          const docLink = document.createElement('div');\n",
              "          docLink.innerHTML = docLinkHtml;\n",
              "          element.appendChild(docLink);\n",
              "        }\n",
              "      </script>\n",
              "    </div>\n",
              "  </div>\n",
              "  "
            ]
          },
          "metadata": {},
          "execution_count": 11
        }
      ],
      "source": [
        "# Drop unnecessary features like Dates\n",
        "\n",
        "df.drop(['Date_1', 'Date_2'], axis=1, inplace=True)\n",
        "df.head()"
      ]
    },
    {
      "cell_type": "code",
      "execution_count": 12,
      "metadata": {
        "colab": {
          "base_uri": "https://localhost:8080/"
        },
        "id": "RiXXW5W7lCLf",
        "outputId": "038edae7-22c6-45ee-cd23-be5ca4542e70"
      },
      "outputs": [
        {
          "output_type": "stream",
          "name": "stdout",
          "text": [
            "<class 'pandas.core.frame.DataFrame'>\n",
            "RangeIndex: 751 entries, 0 to 750\n",
            "Columns: 557 entries, Outcome_M1 to year\n",
            "dtypes: float64(37), int64(520)\n",
            "memory usage: 3.2 MB\n"
          ]
        }
      ],
      "source": [
        "df.info(verbose=False)"
      ]
    },
    {
      "cell_type": "code",
      "execution_count": 13,
      "metadata": {
        "colab": {
          "base_uri": "https://localhost:8080/",
          "height": 394
        },
        "id": "44v4zdmUmC-M",
        "outputId": "206df770-c928-4ffe-9efc-71d763322f85"
      },
      "outputs": [
        {
          "output_type": "execute_result",
          "data": {
            "text/plain": [
              "          Outcome_M1     Outcome_M2     Outcome_M3    Outcome_M4  \\\n",
              "count     751.000000     748.000000     746.000000    746.000000   \n",
              "mean    20620.505992   10837.566845    5194.369973   3494.638070   \n",
              "std     54893.895765   26447.885519   10151.524258   6778.269518   \n",
              "min      2000.000000     500.000000     500.000000    500.000000   \n",
              "25%      2000.000000    2000.000000     500.000000    500.000000   \n",
              "50%      5000.000000    3000.000000    2000.000000   2000.000000   \n",
              "75%     16000.000000    8000.000000    5000.000000   3000.000000   \n",
              "max    795000.000000  315000.000000  108000.000000  74000.000000   \n",
              "\n",
              "         Outcome_M5    Outcome_M6    Outcome_M7    Outcome_M8    Outcome_M9  \\\n",
              "count    727.000000    705.000000    694.000000    687.000000    677.000000   \n",
              "mean    2852.132050   2018.439716   1751.440922   1492.721980   1411.373708   \n",
              "std     6605.350344   2927.572752   1996.524238   1959.116988   2030.529714   \n",
              "min      500.000000    500.000000    500.000000    500.000000    500.000000   \n",
              "25%      500.000000    500.000000    500.000000    500.000000    500.000000   \n",
              "50%     2000.000000   2000.000000   2000.000000    500.000000    500.000000   \n",
              "75%     2000.000000   2000.000000   2000.000000   2000.000000   2000.000000   \n",
              "max    81000.000000  27000.000000  21000.000000  21000.000000  23000.000000   \n",
              "\n",
              "        Outcome_M10  ...  Cat_506  Cat_507  Cat_508  Cat_509     Cat_510  \\\n",
              "count    656.000000  ...    751.0    751.0    751.0    751.0  751.000000   \n",
              "mean    1320.884146  ...      0.0      0.0      1.0      0.0    0.302264   \n",
              "std     1655.987926  ...      0.0      0.0      0.0      0.0    0.459545   \n",
              "min      500.000000  ...      0.0      0.0      1.0      0.0    0.000000   \n",
              "25%      500.000000  ...      0.0      0.0      1.0      0.0    0.000000   \n",
              "50%      500.000000  ...      0.0      0.0      1.0      0.0    0.000000   \n",
              "75%     2000.000000  ...      0.0      0.0      1.0      0.0    1.000000   \n",
              "max    23000.000000  ...      0.0      0.0      1.0      0.0    1.000000   \n",
              "\n",
              "          Cat_511     Cat_512     Cat_513  Cat_514          year  \n",
              "count  751.000000  751.000000  751.000000    751.0  7.510000e+02  \n",
              "mean     0.029294    0.034621    0.010652      1.0  5.204660e+04  \n",
              "std      0.240432    0.182938    0.145670      0.0  1.020924e+05  \n",
              "min      0.000000    0.000000    0.000000      1.0  2.000000e+03  \n",
              "25%      0.000000    0.000000    0.000000      1.0  1.150000e+04  \n",
              "50%      0.000000    0.000000    0.000000      1.0  2.150000e+04  \n",
              "75%      0.000000    0.000000    0.000000      1.0  4.925000e+04  \n",
              "max      2.000000    1.000000    2.000000      1.0  1.363000e+06  \n",
              "\n",
              "[8 rows x 557 columns]"
            ],
            "text/html": [
              "\n",
              "  <div id=\"df-5130bfdd-da5f-4193-9aa1-8438d296c357\">\n",
              "    <div class=\"colab-df-container\">\n",
              "      <div>\n",
              "<style scoped>\n",
              "    .dataframe tbody tr th:only-of-type {\n",
              "        vertical-align: middle;\n",
              "    }\n",
              "\n",
              "    .dataframe tbody tr th {\n",
              "        vertical-align: top;\n",
              "    }\n",
              "\n",
              "    .dataframe thead th {\n",
              "        text-align: right;\n",
              "    }\n",
              "</style>\n",
              "<table border=\"1\" class=\"dataframe\">\n",
              "  <thead>\n",
              "    <tr style=\"text-align: right;\">\n",
              "      <th></th>\n",
              "      <th>Outcome_M1</th>\n",
              "      <th>Outcome_M2</th>\n",
              "      <th>Outcome_M3</th>\n",
              "      <th>Outcome_M4</th>\n",
              "      <th>Outcome_M5</th>\n",
              "      <th>Outcome_M6</th>\n",
              "      <th>Outcome_M7</th>\n",
              "      <th>Outcome_M8</th>\n",
              "      <th>Outcome_M9</th>\n",
              "      <th>Outcome_M10</th>\n",
              "      <th>...</th>\n",
              "      <th>Cat_506</th>\n",
              "      <th>Cat_507</th>\n",
              "      <th>Cat_508</th>\n",
              "      <th>Cat_509</th>\n",
              "      <th>Cat_510</th>\n",
              "      <th>Cat_511</th>\n",
              "      <th>Cat_512</th>\n",
              "      <th>Cat_513</th>\n",
              "      <th>Cat_514</th>\n",
              "      <th>year</th>\n",
              "    </tr>\n",
              "  </thead>\n",
              "  <tbody>\n",
              "    <tr>\n",
              "      <th>count</th>\n",
              "      <td>751.000000</td>\n",
              "      <td>748.000000</td>\n",
              "      <td>746.000000</td>\n",
              "      <td>746.000000</td>\n",
              "      <td>727.000000</td>\n",
              "      <td>705.000000</td>\n",
              "      <td>694.000000</td>\n",
              "      <td>687.000000</td>\n",
              "      <td>677.000000</td>\n",
              "      <td>656.000000</td>\n",
              "      <td>...</td>\n",
              "      <td>751.0</td>\n",
              "      <td>751.0</td>\n",
              "      <td>751.0</td>\n",
              "      <td>751.0</td>\n",
              "      <td>751.000000</td>\n",
              "      <td>751.000000</td>\n",
              "      <td>751.000000</td>\n",
              "      <td>751.000000</td>\n",
              "      <td>751.0</td>\n",
              "      <td>7.510000e+02</td>\n",
              "    </tr>\n",
              "    <tr>\n",
              "      <th>mean</th>\n",
              "      <td>20620.505992</td>\n",
              "      <td>10837.566845</td>\n",
              "      <td>5194.369973</td>\n",
              "      <td>3494.638070</td>\n",
              "      <td>2852.132050</td>\n",
              "      <td>2018.439716</td>\n",
              "      <td>1751.440922</td>\n",
              "      <td>1492.721980</td>\n",
              "      <td>1411.373708</td>\n",
              "      <td>1320.884146</td>\n",
              "      <td>...</td>\n",
              "      <td>0.0</td>\n",
              "      <td>0.0</td>\n",
              "      <td>1.0</td>\n",
              "      <td>0.0</td>\n",
              "      <td>0.302264</td>\n",
              "      <td>0.029294</td>\n",
              "      <td>0.034621</td>\n",
              "      <td>0.010652</td>\n",
              "      <td>1.0</td>\n",
              "      <td>5.204660e+04</td>\n",
              "    </tr>\n",
              "    <tr>\n",
              "      <th>std</th>\n",
              "      <td>54893.895765</td>\n",
              "      <td>26447.885519</td>\n",
              "      <td>10151.524258</td>\n",
              "      <td>6778.269518</td>\n",
              "      <td>6605.350344</td>\n",
              "      <td>2927.572752</td>\n",
              "      <td>1996.524238</td>\n",
              "      <td>1959.116988</td>\n",
              "      <td>2030.529714</td>\n",
              "      <td>1655.987926</td>\n",
              "      <td>...</td>\n",
              "      <td>0.0</td>\n",
              "      <td>0.0</td>\n",
              "      <td>0.0</td>\n",
              "      <td>0.0</td>\n",
              "      <td>0.459545</td>\n",
              "      <td>0.240432</td>\n",
              "      <td>0.182938</td>\n",
              "      <td>0.145670</td>\n",
              "      <td>0.0</td>\n",
              "      <td>1.020924e+05</td>\n",
              "    </tr>\n",
              "    <tr>\n",
              "      <th>min</th>\n",
              "      <td>2000.000000</td>\n",
              "      <td>500.000000</td>\n",
              "      <td>500.000000</td>\n",
              "      <td>500.000000</td>\n",
              "      <td>500.000000</td>\n",
              "      <td>500.000000</td>\n",
              "      <td>500.000000</td>\n",
              "      <td>500.000000</td>\n",
              "      <td>500.000000</td>\n",
              "      <td>500.000000</td>\n",
              "      <td>...</td>\n",
              "      <td>0.0</td>\n",
              "      <td>0.0</td>\n",
              "      <td>1.0</td>\n",
              "      <td>0.0</td>\n",
              "      <td>0.000000</td>\n",
              "      <td>0.000000</td>\n",
              "      <td>0.000000</td>\n",
              "      <td>0.000000</td>\n",
              "      <td>1.0</td>\n",
              "      <td>2.000000e+03</td>\n",
              "    </tr>\n",
              "    <tr>\n",
              "      <th>25%</th>\n",
              "      <td>2000.000000</td>\n",
              "      <td>2000.000000</td>\n",
              "      <td>500.000000</td>\n",
              "      <td>500.000000</td>\n",
              "      <td>500.000000</td>\n",
              "      <td>500.000000</td>\n",
              "      <td>500.000000</td>\n",
              "      <td>500.000000</td>\n",
              "      <td>500.000000</td>\n",
              "      <td>500.000000</td>\n",
              "      <td>...</td>\n",
              "      <td>0.0</td>\n",
              "      <td>0.0</td>\n",
              "      <td>1.0</td>\n",
              "      <td>0.0</td>\n",
              "      <td>0.000000</td>\n",
              "      <td>0.000000</td>\n",
              "      <td>0.000000</td>\n",
              "      <td>0.000000</td>\n",
              "      <td>1.0</td>\n",
              "      <td>1.150000e+04</td>\n",
              "    </tr>\n",
              "    <tr>\n",
              "      <th>50%</th>\n",
              "      <td>5000.000000</td>\n",
              "      <td>3000.000000</td>\n",
              "      <td>2000.000000</td>\n",
              "      <td>2000.000000</td>\n",
              "      <td>2000.000000</td>\n",
              "      <td>2000.000000</td>\n",
              "      <td>2000.000000</td>\n",
              "      <td>500.000000</td>\n",
              "      <td>500.000000</td>\n",
              "      <td>500.000000</td>\n",
              "      <td>...</td>\n",
              "      <td>0.0</td>\n",
              "      <td>0.0</td>\n",
              "      <td>1.0</td>\n",
              "      <td>0.0</td>\n",
              "      <td>0.000000</td>\n",
              "      <td>0.000000</td>\n",
              "      <td>0.000000</td>\n",
              "      <td>0.000000</td>\n",
              "      <td>1.0</td>\n",
              "      <td>2.150000e+04</td>\n",
              "    </tr>\n",
              "    <tr>\n",
              "      <th>75%</th>\n",
              "      <td>16000.000000</td>\n",
              "      <td>8000.000000</td>\n",
              "      <td>5000.000000</td>\n",
              "      <td>3000.000000</td>\n",
              "      <td>2000.000000</td>\n",
              "      <td>2000.000000</td>\n",
              "      <td>2000.000000</td>\n",
              "      <td>2000.000000</td>\n",
              "      <td>2000.000000</td>\n",
              "      <td>2000.000000</td>\n",
              "      <td>...</td>\n",
              "      <td>0.0</td>\n",
              "      <td>0.0</td>\n",
              "      <td>1.0</td>\n",
              "      <td>0.0</td>\n",
              "      <td>1.000000</td>\n",
              "      <td>0.000000</td>\n",
              "      <td>0.000000</td>\n",
              "      <td>0.000000</td>\n",
              "      <td>1.0</td>\n",
              "      <td>4.925000e+04</td>\n",
              "    </tr>\n",
              "    <tr>\n",
              "      <th>max</th>\n",
              "      <td>795000.000000</td>\n",
              "      <td>315000.000000</td>\n",
              "      <td>108000.000000</td>\n",
              "      <td>74000.000000</td>\n",
              "      <td>81000.000000</td>\n",
              "      <td>27000.000000</td>\n",
              "      <td>21000.000000</td>\n",
              "      <td>21000.000000</td>\n",
              "      <td>23000.000000</td>\n",
              "      <td>23000.000000</td>\n",
              "      <td>...</td>\n",
              "      <td>0.0</td>\n",
              "      <td>0.0</td>\n",
              "      <td>1.0</td>\n",
              "      <td>0.0</td>\n",
              "      <td>1.000000</td>\n",
              "      <td>2.000000</td>\n",
              "      <td>1.000000</td>\n",
              "      <td>2.000000</td>\n",
              "      <td>1.0</td>\n",
              "      <td>1.363000e+06</td>\n",
              "    </tr>\n",
              "  </tbody>\n",
              "</table>\n",
              "<p>8 rows × 557 columns</p>\n",
              "</div>\n",
              "      <button class=\"colab-df-convert\" onclick=\"convertToInteractive('df-5130bfdd-da5f-4193-9aa1-8438d296c357')\"\n",
              "              title=\"Convert this dataframe to an interactive table.\"\n",
              "              style=\"display:none;\">\n",
              "        \n",
              "  <svg xmlns=\"http://www.w3.org/2000/svg\" height=\"24px\"viewBox=\"0 0 24 24\"\n",
              "       width=\"24px\">\n",
              "    <path d=\"M0 0h24v24H0V0z\" fill=\"none\"/>\n",
              "    <path d=\"M18.56 5.44l.94 2.06.94-2.06 2.06-.94-2.06-.94-.94-2.06-.94 2.06-2.06.94zm-11 1L8.5 8.5l.94-2.06 2.06-.94-2.06-.94L8.5 2.5l-.94 2.06-2.06.94zm10 10l.94 2.06.94-2.06 2.06-.94-2.06-.94-.94-2.06-.94 2.06-2.06.94z\"/><path d=\"M17.41 7.96l-1.37-1.37c-.4-.4-.92-.59-1.43-.59-.52 0-1.04.2-1.43.59L10.3 9.45l-7.72 7.72c-.78.78-.78 2.05 0 2.83L4 21.41c.39.39.9.59 1.41.59.51 0 1.02-.2 1.41-.59l7.78-7.78 2.81-2.81c.8-.78.8-2.07 0-2.86zM5.41 20L4 18.59l7.72-7.72 1.47 1.35L5.41 20z\"/>\n",
              "  </svg>\n",
              "      </button>\n",
              "      \n",
              "  <style>\n",
              "    .colab-df-container {\n",
              "      display:flex;\n",
              "      flex-wrap:wrap;\n",
              "      gap: 12px;\n",
              "    }\n",
              "\n",
              "    .colab-df-convert {\n",
              "      background-color: #E8F0FE;\n",
              "      border: none;\n",
              "      border-radius: 50%;\n",
              "      cursor: pointer;\n",
              "      display: none;\n",
              "      fill: #1967D2;\n",
              "      height: 32px;\n",
              "      padding: 0 0 0 0;\n",
              "      width: 32px;\n",
              "    }\n",
              "\n",
              "    .colab-df-convert:hover {\n",
              "      background-color: #E2EBFA;\n",
              "      box-shadow: 0px 1px 2px rgba(60, 64, 67, 0.3), 0px 1px 3px 1px rgba(60, 64, 67, 0.15);\n",
              "      fill: #174EA6;\n",
              "    }\n",
              "\n",
              "    [theme=dark] .colab-df-convert {\n",
              "      background-color: #3B4455;\n",
              "      fill: #D2E3FC;\n",
              "    }\n",
              "\n",
              "    [theme=dark] .colab-df-convert:hover {\n",
              "      background-color: #434B5C;\n",
              "      box-shadow: 0px 1px 3px 1px rgba(0, 0, 0, 0.15);\n",
              "      filter: drop-shadow(0px 1px 2px rgba(0, 0, 0, 0.3));\n",
              "      fill: #FFFFFF;\n",
              "    }\n",
              "  </style>\n",
              "\n",
              "      <script>\n",
              "        const buttonEl =\n",
              "          document.querySelector('#df-5130bfdd-da5f-4193-9aa1-8438d296c357 button.colab-df-convert');\n",
              "        buttonEl.style.display =\n",
              "          google.colab.kernel.accessAllowed ? 'block' : 'none';\n",
              "\n",
              "        async function convertToInteractive(key) {\n",
              "          const element = document.querySelector('#df-5130bfdd-da5f-4193-9aa1-8438d296c357');\n",
              "          const dataTable =\n",
              "            await google.colab.kernel.invokeFunction('convertToInteractive',\n",
              "                                                     [key], {});\n",
              "          if (!dataTable) return;\n",
              "\n",
              "          const docLinkHtml = 'Like what you see? Visit the ' +\n",
              "            '<a target=\"_blank\" href=https://colab.research.google.com/notebooks/data_table.ipynb>data table notebook</a>'\n",
              "            + ' to learn more about interactive tables.';\n",
              "          element.innerHTML = '';\n",
              "          dataTable['output_type'] = 'display_data';\n",
              "          await google.colab.output.renderOutput(dataTable, element);\n",
              "          const docLink = document.createElement('div');\n",
              "          docLink.innerHTML = docLinkHtml;\n",
              "          element.appendChild(docLink);\n",
              "        }\n",
              "      </script>\n",
              "    </div>\n",
              "  </div>\n",
              "  "
            ]
          },
          "metadata": {},
          "execution_count": 13
        }
      ],
      "source": [
        "df.describe()"
      ]
    },
    {
      "cell_type": "code",
      "execution_count": 14,
      "metadata": {
        "colab": {
          "base_uri": "https://localhost:8080/"
        },
        "id": "YN2vHWNElod_",
        "outputId": "d85197c9-3477-4b75-f743-4f0367568b70"
      },
      "outputs": [
        {
          "output_type": "execute_result",
          "data": {
            "text/plain": [
              "Outcome_M1     0\n",
              "Outcome_M2     3\n",
              "Outcome_M3     5\n",
              "Outcome_M4     5\n",
              "Outcome_M5    24\n",
              "              ..\n",
              "Cat_511        0\n",
              "Cat_512        0\n",
              "Cat_513        0\n",
              "Cat_514        0\n",
              "year           0\n",
              "Length: 557, dtype: int64"
            ]
          },
          "metadata": {},
          "execution_count": 14
        }
      ],
      "source": [
        "# Sum of missing values\n",
        "\n",
        "df.isnull().sum()"
      ]
    },
    {
      "cell_type": "code",
      "execution_count": 15,
      "metadata": {
        "colab": {
          "base_uri": "https://localhost:8080/",
          "height": 476
        },
        "id": "-sKveUpjmj4k",
        "outputId": "3ba413be-04a6-4a80-a829-77231d9a1590"
      },
      "outputs": [
        {
          "output_type": "execute_result",
          "data": {
            "text/plain": [
              "<matplotlib.axes._subplots.AxesSubplot at 0x7fd3a6e06150>"
            ]
          },
          "metadata": {},
          "execution_count": 15
        },
        {
          "output_type": "display_data",
          "data": {
            "text/plain": [
              "<Figure size 1440x504 with 1 Axes>"
            ],
            "image/png": "[encoded data removed]"
          },
          "metadata": {}
        }
      ],
      "source": [
        "# Distrubution plot to figure out the method for missing value treatment\n",
        "\n",
        "import seaborn as sns\n",
        "sns.set(rc={'figure.figsize':(20,7)})\n",
        "sns.distplot(df.Outcome_M1)"
      ]
    },
    {
      "cell_type": "markdown",
      "metadata": {
        "id": "ZzmbKBvjbSyB"
      },
      "source": [
        "Since the distribution plot is skewed, we can use either mode or median to replace missing values."
      ]
    },
    {
      "cell_type": "code",
      "execution_count": 16,
      "metadata": {
        "id": "MNY1uOcKuJCs"
      },
      "outputs": [],
      "source": [
        "# Replacing missing values with mode of the coloumn\n",
        "\n",
        "df[df.columns]=df[df.columns].fillna(df.mode().iloc[0])"
      ]
    },
    {
      "cell_type": "markdown",
      "source": [
        "### EDA"
      ],
      "metadata": {
        "id": "eKB3PVpZn13_"
      }
    },
    {
      "cell_type": "code",
      "execution_count": 17,
      "metadata": {
        "colab": {
          "base_uri": "https://localhost:8080/",
          "height": 528
        },
        "id": "MFkdrzNDcD93",
        "outputId": "3f387f68-f8d0-446d-8b36-53501f322e7a"
      },
      "outputs": [
        {
          "output_type": "execute_result",
          "data": {
            "text/plain": [
              "<matplotlib.axes._subplots.AxesSubplot at 0x7fd3a6e4ced0>"
            ]
          },
          "metadata": {},
          "execution_count": 17
        },
        {
          "output_type": "display_data",
          "data": {
            "text/plain": [
              "<Figure size 1440x504 with 1 Axes>"
            ],
            "image/png": "[encoded data removed]"
          },
          "metadata": {}
        }
      ],
      "source": [
        "# Bar graph for target variables' distribution\n",
        "\n",
        "month=df.columns[0:12].tolist()\n",
        "fig, ax = plt.subplots(figsize=(20,7))\n",
        "df[month].sum(axis = 0, skipna = True).plot.bar()"
      ]
    },
    {
      "cell_type": "markdown",
      "metadata": {
        "id": "W28LVwxJ2kLl"
      },
      "source": [
        "The overall monthly sales kept decreasing over time"
      ]
    },
    {
      "cell_type": "code",
      "source": [
        "# Pie chart for monthly sales\n",
        "\n",
        "data = df.iloc[:,0:12].sum()\n",
        "keys = month\n",
        "palette_color = sns.color_palette('bright')\n",
        "plt.pie(data, labels=keys, colors=palette_color, autopct='%.0f%%')\n",
        "plt.show()"
      ],
      "metadata": {
        "id": "YAG6qpOXGZpS",
        "colab": {
          "base_uri": "https://localhost:8080/",
          "height": 411
        },
        "outputId": "73ae3d21-a139-427c-be43-5a44bf994aa2"
      },
      "execution_count": 18,
      "outputs": [
        {
          "output_type": "display_data",
          "data": {
            "text/plain": [
              "<Figure size 1440x504 with 1 Axes>"
            ],
            "image/png": "[encoded data removed]"
          },
          "metadata": {}
        }
      ]
    },
    {
      "cell_type": "code",
      "execution_count": 19,
      "metadata": {
        "colab": {
          "base_uri": "https://localhost:8080/",
          "height": 435
        },
        "id": "x7z8-JtIzgQS",
        "outputId": "185abf0e-db27-4652-ade1-8e8fbd5faecf"
      },
      "outputs": [
        {
          "output_type": "display_data",
          "data": {
            "text/plain": [
              "<Figure size 1440x504 with 1 Axes>"
            ],
            "image/png": "[encoded data removed]"
          },
          "metadata": {}
        }
      ],
      "source": [
        "# Bar graph to compre monthly sales of first 20 rows\n",
        "\n",
        "sns.set(rc={'figure.figsize':(20,7)})\n",
        "df.iloc[0:20,0:12].plot.bar()\n",
        "plt.show()"
      ]
    },
    {
      "cell_type": "markdown",
      "metadata": {
        "id": "CFHGVqSu_xYq"
      },
      "source": [
        "The sales for first 20 products has been highest for the first month except for certain products with hbighest sales in second month."
      ]
    },
    {
      "cell_type": "code",
      "execution_count": 20,
      "metadata": {
        "colab": {
          "base_uri": "https://localhost:8080/",
          "height": 478
        },
        "id": "u6RZOyWvHUjg",
        "outputId": "b913d584-5edd-468b-d37c-6bf0740f4065"
      },
      "outputs": [
        {
          "output_type": "display_data",
          "data": {
            "text/plain": [
              "<Figure size 1440x504 with 1 Axes>"
            ],
            "image/png": "[encoded data removed]"
          },
          "metadata": {}
        }
      ],
      "source": [
        "# Direct relation between quantity and first month's sales\n",
        "\n",
        "fig_dims = (20, 7)\n",
        "fig, ax = plt.subplots(figsize=fig_dims)\n",
        "d=sns.barplot(x = \"Quan_2\", y = \"Outcome_M1\", ax=ax, data=df)\n",
        "d.set_xticklabels(d.get_xticklabels(), rotation=90, ha=\"right\")\n",
        "plt.show()"
      ]
    },
    {
      "cell_type": "code",
      "execution_count": 21,
      "metadata": {
        "colab": {
          "base_uri": "https://localhost:8080/",
          "height": 476
        },
        "id": "m5FzfVb_AMNT",
        "outputId": "26c09c62-1e9a-4250-9bee-f8cbac393af9"
      },
      "outputs": [
        {
          "output_type": "display_data",
          "data": {
            "text/plain": [
              "<Figure size 1440x504 with 1 Axes>"
            ],
            "image/png": "[encoded data removed]"
          },
          "metadata": {}
        }
      ],
      "source": [
        "# Direct relation between quantity and last month's sales\n",
        "\n",
        "fig_dims = (20, 7)\n",
        "fig, ax = plt.subplots(figsize=fig_dims)\n",
        "d=sns.barplot(x = \"Quan_2\", y = \"Outcome_M12\", ax=ax, data=df)\n",
        "d.set_xticklabels(d.get_xticklabels(), rotation=90, ha=\"right\")\n",
        "plt.show()"
      ]
    },
    {
      "cell_type": "markdown",
      "metadata": {
        "id": "h4UAYnghI5U0"
      },
      "source": [
        "Increasing quantity had a direct impact on monthly sales."
      ]
    },
    {
      "cell_type": "code",
      "execution_count": 22,
      "metadata": {
        "colab": {
          "base_uri": "https://localhost:8080/",
          "height": 941
        },
        "id": "hktDqtubYAiW",
        "outputId": "e9068707-820b-4998-dc67-51e44ebe19b3"
      },
      "outputs": [
        {
          "output_type": "display_data",
          "data": {
            "text/plain": [
              "<Figure size 1080x936 with 12 Axes>"
            ],
            "image/png": "[encoded data removed]"
          },
          "metadata": {}
        }
      ],
      "source": [
        "# Boxplots and Distribution plots of various months\n",
        "\n",
        "fig, ax = plt.subplots(6, 2, figsize = (15, 13))\n",
        "sns.boxplot(x= df[\"Outcome_M1\"], ax = ax[0,0])\n",
        "sns.distplot(df['Outcome_M1'], ax = ax[0,1])\n",
        "sns.boxplot(x= df[\"Outcome_M2\"], ax = ax[1,0])\n",
        "sns.distplot(df['Outcome_M2'], ax = ax[1,1])\n",
        "sns.boxplot(x= df[\"Outcome_M3\"], ax = ax[2,0])\n",
        "sns.distplot(df['Outcome_M3'], ax = ax[2,1])\n",
        "sns.boxplot(x= df[\"Outcome_M10\"], ax = ax[3,0])\n",
        "sns.distplot(df['Outcome_M10'], ax = ax[3,1])\n",
        "sns.boxplot(x= df[\"Outcome_M11\"], ax = ax[4,0])\n",
        "sns.distplot(df['Outcome_M11'], ax = ax[4,1])\n",
        "sns.boxplot(x= df[\"Outcome_M12\"], ax = ax[5,0])\n",
        "sns.distplot(df['Outcome_M12'], ax = ax[5,1])\n",
        "plt.tight_layout()"
      ]
    },
    {
      "cell_type": "code",
      "source": [
        "# Distribution plot for sales over entire year\n",
        "\n",
        "x = df['year']\n",
        "sns.distplot(x, bins=10)\n",
        "plt.show()"
      ],
      "metadata": {
        "colab": {
          "base_uri": "https://localhost:8080/",
          "height": 459
        },
        "id": "eEO7djSQCNRZ",
        "outputId": "a9d14f2f-a59f-48c9-86d2-aab1e6d99f7e"
      },
      "execution_count": 23,
      "outputs": [
        {
          "output_type": "display_data",
          "data": {
            "text/plain": [
              "<Figure size 1440x504 with 1 Axes>"
            ],
            "image/png": "[encoded data removed]"
          },
          "metadata": {}
        }
      ]
    },
    {
      "cell_type": "code",
      "source": [
        "# Is there a relation between features and yearly sales?\n",
        "# Countplot\n",
        "\n",
        "sns.countplot(x=\"Cat_1\", data=df, color=\"c\")\n",
        "plt.show()"
      ],
      "metadata": {
        "colab": {
          "base_uri": "https://localhost:8080/",
          "height": 448
        },
        "id": "O2CgE4naM_8H",
        "outputId": "78547e9a-01a1-46a3-ea3d-70799e902ccf"
      },
      "execution_count": 24,
      "outputs": [
        {
          "output_type": "display_data",
          "data": {
            "text/plain": [
              "<Figure size 1440x504 with 1 Axes>"
            ],
            "image/png": "[encoded data removed]"
          },
          "metadata": {}
        }
      ]
    },
    {
      "cell_type": "code",
      "source": [
        "# Bargraph\n",
        "\n",
        "fig, ax = plt.subplots(figsize=fig_dims)\n",
        "d=sns.barplot(x = \"Cat_42\", y = \"year\", ax=ax, data=df)\n",
        "d.set_xticklabels(d.get_xticklabels(), rotation=90, ha=\"right\")\n",
        "plt.show()"
      ],
      "metadata": {
        "colab": {
          "base_uri": "https://localhost:8080/",
          "height": 445
        },
        "id": "MwhoEGFYGCqg",
        "outputId": "b91a2b06-310d-4463-977d-775c0d51b7b6"
      },
      "execution_count": 25,
      "outputs": [
        {
          "output_type": "display_data",
          "data": {
            "text/plain": [
              "<Figure size 1440x504 with 1 Axes>"
            ],
            "image/png": "[encoded data removed]"
          },
          "metadata": {}
        }
      ]
    },
    {
      "cell_type": "markdown",
      "source": [
        "Since different products will have different features for which the sales would increase, there can be seen no linear dependency of sales on the features."
      ],
      "metadata": {
        "id": "AKBEXoXFFAiX"
      }
    },
    {
      "cell_type": "markdown",
      "source": [
        "### Building Models using GridSearchCV for choosing best hyperparameters"
      ],
      "metadata": {
        "id": "hhgnQp-5qVbn"
      }
    },
    {
      "cell_type": "code",
      "execution_count": 26,
      "metadata": {
        "id": "JdnSN1_OciIu"
      },
      "outputs": [],
      "source": [
        "# Separate target variables from rest of the dataset\n",
        "\n",
        "y = df[df.columns[0:12]]\n",
        "X=df[df.columns[12:]]"
      ]
    },
    {
      "cell_type": "code",
      "execution_count": 27,
      "metadata": {
        "colab": {
          "base_uri": "https://localhost:8080/",
          "height": 488
        },
        "id": "0GCl-uCWgKTA",
        "outputId": "0701051d-290a-441c-b60c-f56705e3feea"
      },
      "outputs": [
        {
          "output_type": "execute_result",
          "data": {
            "text/plain": [
              "     Cat_1   Quan_1  Quan_2  Quan_3     Quan_4  Quan_5  Quan_6  Quan_7  \\\n",
              "0        2   918600  8300.0    76.0   538046.0     1.0     0.0     0.0   \n",
              "1        2   981000  7600.0    50.0   557614.0     1.0     0.0     0.0   \n",
              "2        2    31600  8000.0    66.0  1119115.0     1.0     0.0     0.0   \n",
              "3        2   685300  7900.0   101.0  1416697.0     1.0     0.0     0.0   \n",
              "4        1  2657500  7600.0    81.0    58666.0     1.0     0.0     0.0   \n",
              "..     ...      ...     ...     ...        ...     ...     ...     ...   \n",
              "746      2  2613200  8500.0   122.0  1178524.0   124.0    27.0    34.0   \n",
              "747      2   685300  5400.0    37.0   331563.0     1.0     0.0     0.0   \n",
              "748      1  1684000  5400.0    56.0   564834.0     1.0     0.0     0.0   \n",
              "749      2  1210500  7400.0    60.0    94900.0     1.0     0.0     0.0   \n",
              "750      1  2281200  5600.0    91.0      761.0     1.0     0.0     0.0   \n",
              "\n",
              "     Quan_8  Quan_9  ...  Cat_506  Cat_507  Cat_508  Cat_509  Cat_510  \\\n",
              "0       1.0     1.0  ...        0        0        1        0        1   \n",
              "1       1.0     1.0  ...        0        0        1        0        0   \n",
              "2       1.0     1.0  ...        0        0        1        0        0   \n",
              "3       1.0     1.0  ...        0        0        1        0        1   \n",
              "4       1.0     1.0  ...        0        0        1        0        1   \n",
              "..      ...     ...  ...      ...      ...      ...      ...      ...   \n",
              "746   124.0   124.0  ...        0        0        1        0        0   \n",
              "747     1.0     1.0  ...        0        0        1        0        0   \n",
              "748     1.0     1.0  ...        0        0        1        0        0   \n",
              "749     1.0     1.0  ...        0        0        1        0        0   \n",
              "750     1.0     1.0  ...        0        0        1        0        1   \n",
              "\n",
              "     Cat_511  Cat_512  Cat_513  Cat_514      year  \n",
              "0          0        0        0        1   33500.0  \n",
              "1          0        0        0        1   32000.0  \n",
              "2          0        0        0        1   43500.0  \n",
              "3          0        0        0        1   81000.0  \n",
              "4          0        0        0        1   24500.0  \n",
              "..       ...      ...      ...      ...       ...  \n",
              "746        2        0        0        1  105500.0  \n",
              "747        0        0        0        1   13500.0  \n",
              "748        0        0        0        1   24000.0  \n",
              "749        0        0        0        1   26500.0  \n",
              "750        0        0        0        1   43500.0  \n",
              "\n",
              "[751 rows x 545 columns]"
            ],
            "text/html": [
              "\n",
              "  <div id=\"df-67ab0001-4a4d-42c4-b015-19545047e431\">\n",
              "    <div class=\"colab-df-container\">\n",
              "      <div>\n",
              "<style scoped>\n",
              "    .dataframe tbody tr th:only-of-type {\n",
              "        vertical-align: middle;\n",
              "    }\n",
              "\n",
              "    .dataframe tbody tr th {\n",
              "        vertical-align: top;\n",
              "    }\n",
              "\n",
              "    .dataframe thead th {\n",
              "        text-align: right;\n",
              "    }\n",
              "</style>\n",
              "<table border=\"1\" class=\"dataframe\">\n",
              "  <thead>\n",
              "    <tr style=\"text-align: right;\">\n",
              "      <th></th>\n",
              "      <th>Cat_1</th>\n",
              "      <th>Quan_1</th>\n",
              "      <th>Quan_2</th>\n",
              "      <th>Quan_3</th>\n",
              "      <th>Quan_4</th>\n",
              "      <th>Quan_5</th>\n",
              "      <th>Quan_6</th>\n",
              "      <th>Quan_7</th>\n",
              "      <th>Quan_8</th>\n",
              "      <th>Quan_9</th>\n",
              "      <th>...</th>\n",
              "      <th>Cat_506</th>\n",
              "      <th>Cat_507</th>\n",
              "      <th>Cat_508</th>\n",
              "      <th>Cat_509</th>\n",
              "      <th>Cat_510</th>\n",
              "      <th>Cat_511</th>\n",
              "      <th>Cat_512</th>\n",
              "      <th>Cat_513</th>\n",
              "      <th>Cat_514</th>\n",
              "      <th>year</th>\n",
              "    </tr>\n",
              "  </thead>\n",
              "  <tbody>\n",
              "    <tr>\n",
              "      <th>0</th>\n",
              "      <td>2</td>\n",
              "      <td>918600</td>\n",
              "      <td>8300.0</td>\n",
              "      <td>76.0</td>\n",
              "      <td>538046.0</td>\n",
              "      <td>1.0</td>\n",
              "      <td>0.0</td>\n",
              "      <td>0.0</td>\n",
              "      <td>1.0</td>\n",
              "      <td>1.0</td>\n",
              "      <td>...</td>\n",
              "      <td>0</td>\n",
              "      <td>0</td>\n",
              "      <td>1</td>\n",
              "      <td>0</td>\n",
              "      <td>1</td>\n",
              "      <td>0</td>\n",
              "      <td>0</td>\n",
              "      <td>0</td>\n",
              "      <td>1</td>\n",
              "      <td>33500.0</td>\n",
              "    </tr>\n",
              "    <tr>\n",
              "      <th>1</th>\n",
              "      <td>2</td>\n",
              "      <td>981000</td>\n",
              "      <td>7600.0</td>\n",
              "      <td>50.0</td>\n",
              "      <td>557614.0</td>\n",
              "      <td>1.0</td>\n",
              "      <td>0.0</td>\n",
              "      <td>0.0</td>\n",
              "      <td>1.0</td>\n",
              "      <td>1.0</td>\n",
              "      <td>...</td>\n",
              "      <td>0</td>\n",
              "      <td>0</td>\n",
              "      <td>1</td>\n",
              "      <td>0</td>\n",
              "      <td>0</td>\n",
              "      <td>0</td>\n",
              "      <td>0</td>\n",
              "      <td>0</td>\n",
              "      <td>1</td>\n",
              "      <td>32000.0</td>\n",
              "    </tr>\n",
              "    <tr>\n",
              "      <th>2</th>\n",
              "      <td>2</td>\n",
              "      <td>31600</td>\n",
              "      <td>8000.0</td>\n",
              "      <td>66.0</td>\n",
              "      <td>1119115.0</td>\n",
              "      <td>1.0</td>\n",
              "      <td>0.0</td>\n",
              "      <td>0.0</td>\n",
              "      <td>1.0</td>\n",
              "      <td>1.0</td>\n",
              "      <td>...</td>\n",
              "      <td>0</td>\n",
              "      <td>0</td>\n",
              "      <td>1</td>\n",
              "      <td>0</td>\n",
              "      <td>0</td>\n",
              "      <td>0</td>\n",
              "      <td>0</td>\n",
              "      <td>0</td>\n",
              "      <td>1</td>\n",
              "      <td>43500.0</td>\n",
              "    </tr>\n",
              "    <tr>\n",
              "      <th>3</th>\n",
              "      <td>2</td>\n",
              "      <td>685300</td>\n",
              "      <td>7900.0</td>\n",
              "      <td>101.0</td>\n",
              "      <td>1416697.0</td>\n",
              "      <td>1.0</td>\n",
              "      <td>0.0</td>\n",
              "      <td>0.0</td>\n",
              "      <td>1.0</td>\n",
              "      <td>1.0</td>\n",
              "      <td>...</td>\n",
              "      <td>0</td>\n",
              "      <td>0</td>\n",
              "      <td>1</td>\n",
              "      <td>0</td>\n",
              "      <td>1</td>\n",
              "      <td>0</td>\n",
              "      <td>0</td>\n",
              "      <td>0</td>\n",
              "      <td>1</td>\n",
              "      <td>81000.0</td>\n",
              "    </tr>\n",
              "    <tr>\n",
              "      <th>4</th>\n",
              "      <td>1</td>\n",
              "      <td>2657500</td>\n",
              "      <td>7600.0</td>\n",
              "      <td>81.0</td>\n",
              "      <td>58666.0</td>\n",
              "      <td>1.0</td>\n",
              "      <td>0.0</td>\n",
              "      <td>0.0</td>\n",
              "      <td>1.0</td>\n",
              "      <td>1.0</td>\n",
              "      <td>...</td>\n",
              "      <td>0</td>\n",
              "      <td>0</td>\n",
              "      <td>1</td>\n",
              "      <td>0</td>\n",
              "      <td>1</td>\n",
              "      <td>0</td>\n",
              "      <td>0</td>\n",
              "      <td>0</td>\n",
              "      <td>1</td>\n",
              "      <td>24500.0</td>\n",
              "    </tr>\n",
              "    <tr>\n",
              "      <th>...</th>\n",
              "      <td>...</td>\n",
              "      <td>...</td>\n",
              "      <td>...</td>\n",
              "      <td>...</td>\n",
              "      <td>...</td>\n",
              "      <td>...</td>\n",
              "      <td>...</td>\n",
              "      <td>...</td>\n",
              "      <td>...</td>\n",
              "      <td>...</td>\n",
              "      <td>...</td>\n",
              "      <td>...</td>\n",
              "      <td>...</td>\n",
              "      <td>...</td>\n",
              "      <td>...</td>\n",
              "      <td>...</td>\n",
              "      <td>...</td>\n",
              "      <td>...</td>\n",
              "      <td>...</td>\n",
              "      <td>...</td>\n",
              "      <td>...</td>\n",
              "    </tr>\n",
              "    <tr>\n",
              "      <th>746</th>\n",
              "      <td>2</td>\n",
              "      <td>2613200</td>\n",
              "      <td>8500.0</td>\n",
              "      <td>122.0</td>\n",
              "      <td>1178524.0</td>\n",
              "      <td>124.0</td>\n",
              "      <td>27.0</td>\n",
              "      <td>34.0</td>\n",
              "      <td>124.0</td>\n",
              "      <td>124.0</td>\n",
              "      <td>...</td>\n",
              "      <td>0</td>\n",
              "      <td>0</td>\n",
              "      <td>1</td>\n",
              "      <td>0</td>\n",
              "      <td>0</td>\n",
              "      <td>2</td>\n",
              "      <td>0</td>\n",
              "      <td>0</td>\n",
              "      <td>1</td>\n",
              "      <td>105500.0</td>\n",
              "    </tr>\n",
              "    <tr>\n",
              "      <th>747</th>\n",
              "      <td>2</td>\n",
              "      <td>685300</td>\n",
              "      <td>5400.0</td>\n",
              "      <td>37.0</td>\n",
              "      <td>331563.0</td>\n",
              "      <td>1.0</td>\n",
              "      <td>0.0</td>\n",
              "      <td>0.0</td>\n",
              "      <td>1.0</td>\n",
              "      <td>1.0</td>\n",
              "      <td>...</td>\n",
              "      <td>0</td>\n",
              "      <td>0</td>\n",
              "      <td>1</td>\n",
              "      <td>0</td>\n",
              "      <td>0</td>\n",
              "      <td>0</td>\n",
              "      <td>0</td>\n",
              "      <td>0</td>\n",
              "      <td>1</td>\n",
              "      <td>13500.0</td>\n",
              "    </tr>\n",
              "    <tr>\n",
              "      <th>748</th>\n",
              "      <td>1</td>\n",
              "      <td>1684000</td>\n",
              "      <td>5400.0</td>\n",
              "      <td>56.0</td>\n",
              "      <td>564834.0</td>\n",
              "      <td>1.0</td>\n",
              "      <td>0.0</td>\n",
              "      <td>0.0</td>\n",
              "      <td>1.0</td>\n",
              "      <td>1.0</td>\n",
              "      <td>...</td>\n",
              "      <td>0</td>\n",
              "      <td>0</td>\n",
              "      <td>1</td>\n",
              "      <td>0</td>\n",
              "      <td>0</td>\n",
              "      <td>0</td>\n",
              "      <td>0</td>\n",
              "      <td>0</td>\n",
              "      <td>1</td>\n",
              "      <td>24000.0</td>\n",
              "    </tr>\n",
              "    <tr>\n",
              "      <th>749</th>\n",
              "      <td>2</td>\n",
              "      <td>1210500</td>\n",
              "      <td>7400.0</td>\n",
              "      <td>60.0</td>\n",
              "      <td>94900.0</td>\n",
              "      <td>1.0</td>\n",
              "      <td>0.0</td>\n",
              "      <td>0.0</td>\n",
              "      <td>1.0</td>\n",
              "      <td>1.0</td>\n",
              "      <td>...</td>\n",
              "      <td>0</td>\n",
              "      <td>0</td>\n",
              "      <td>1</td>\n",
              "      <td>0</td>\n",
              "      <td>0</td>\n",
              "      <td>0</td>\n",
              "      <td>0</td>\n",
              "      <td>0</td>\n",
              "      <td>1</td>\n",
              "      <td>26500.0</td>\n",
              "    </tr>\n",
              "    <tr>\n",
              "      <th>750</th>\n",
              "      <td>1</td>\n",
              "      <td>2281200</td>\n",
              "      <td>5600.0</td>\n",
              "      <td>91.0</td>\n",
              "      <td>761.0</td>\n",
              "      <td>1.0</td>\n",
              "      <td>0.0</td>\n",
              "      <td>0.0</td>\n",
              "      <td>1.0</td>\n",
              "      <td>1.0</td>\n",
              "      <td>...</td>\n",
              "      <td>0</td>\n",
              "      <td>0</td>\n",
              "      <td>1</td>\n",
              "      <td>0</td>\n",
              "      <td>1</td>\n",
              "      <td>0</td>\n",
              "      <td>0</td>\n",
              "      <td>0</td>\n",
              "      <td>1</td>\n",
              "      <td>43500.0</td>\n",
              "    </tr>\n",
              "  </tbody>\n",
              "</table>\n",
              "<p>751 rows × 545 columns</p>\n",
              "</div>\n",
              "      <button class=\"colab-df-convert\" onclick=\"convertToInteractive('df-67ab0001-4a4d-42c4-b015-19545047e431')\"\n",
              "              title=\"Convert this dataframe to an interactive table.\"\n",
              "              style=\"display:none;\">\n",
              "        \n",
              "  <svg xmlns=\"http://www.w3.org/2000/svg\" height=\"24px\"viewBox=\"0 0 24 24\"\n",
              "       width=\"24px\">\n",
              "    <path d=\"M0 0h24v24H0V0z\" fill=\"none\"/>\n",
              "    <path d=\"M18.56 5.44l.94 2.06.94-2.06 2.06-.94-2.06-.94-.94-2.06-.94 2.06-2.06.94zm-11 1L8.5 8.5l.94-2.06 2.06-.94-2.06-.94L8.5 2.5l-.94 2.06-2.06.94zm10 10l.94 2.06.94-2.06 2.06-.94-2.06-.94-.94-2.06-.94 2.06-2.06.94z\"/><path d=\"M17.41 7.96l-1.37-1.37c-.4-.4-.92-.59-1.43-.59-.52 0-1.04.2-1.43.59L10.3 9.45l-7.72 7.72c-.78.78-.78 2.05 0 2.83L4 21.41c.39.39.9.59 1.41.59.51 0 1.02-.2 1.41-.59l7.78-7.78 2.81-2.81c.8-.78.8-2.07 0-2.86zM5.41 20L4 18.59l7.72-7.72 1.47 1.35L5.41 20z\"/>\n",
              "  </svg>\n",
              "      </button>\n",
              "      \n",
              "  <style>\n",
              "    .colab-df-container {\n",
              "      display:flex;\n",
              "      flex-wrap:wrap;\n",
              "      gap: 12px;\n",
              "    }\n",
              "\n",
              "    .colab-df-convert {\n",
              "      background-color: #E8F0FE;\n",
              "      border: none;\n",
              "      border-radius: 50%;\n",
              "      cursor: pointer;\n",
              "      display: none;\n",
              "      fill: #1967D2;\n",
              "      height: 32px;\n",
              "      padding: 0 0 0 0;\n",
              "      width: 32px;\n",
              "    }\n",
              "\n",
              "    .colab-df-convert:hover {\n",
              "      background-color: #E2EBFA;\n",
              "      box-shadow: 0px 1px 2px rgba(60, 64, 67, 0.3), 0px 1px 3px 1px rgba(60, 64, 67, 0.15);\n",
              "      fill: #174EA6;\n",
              "    }\n",
              "\n",
              "    [theme=dark] .colab-df-convert {\n",
              "      background-color: #3B4455;\n",
              "      fill: #D2E3FC;\n",
              "    }\n",
              "\n",
              "    [theme=dark] .colab-df-convert:hover {\n",
              "      background-color: #434B5C;\n",
              "      box-shadow: 0px 1px 3px 1px rgba(0, 0, 0, 0.15);\n",
              "      filter: drop-shadow(0px 1px 2px rgba(0, 0, 0, 0.3));\n",
              "      fill: #FFFFFF;\n",
              "    }\n",
              "  </style>\n",
              "\n",
              "      <script>\n",
              "        const buttonEl =\n",
              "          document.querySelector('#df-67ab0001-4a4d-42c4-b015-19545047e431 button.colab-df-convert');\n",
              "        buttonEl.style.display =\n",
              "          google.colab.kernel.accessAllowed ? 'block' : 'none';\n",
              "\n",
              "        async function convertToInteractive(key) {\n",
              "          const element = document.querySelector('#df-67ab0001-4a4d-42c4-b015-19545047e431');\n",
              "          const dataTable =\n",
              "            await google.colab.kernel.invokeFunction('convertToInteractive',\n",
              "                                                     [key], {});\n",
              "          if (!dataTable) return;\n",
              "\n",
              "          const docLinkHtml = 'Like what you see? Visit the ' +\n",
              "            '<a target=\"_blank\" href=https://colab.research.google.com/notebooks/data_table.ipynb>data table notebook</a>'\n",
              "            + ' to learn more about interactive tables.';\n",
              "          element.innerHTML = '';\n",
              "          dataTable['output_type'] = 'display_data';\n",
              "          await google.colab.output.renderOutput(dataTable, element);\n",
              "          const docLink = document.createElement('div');\n",
              "          docLink.innerHTML = docLinkHtml;\n",
              "          element.appendChild(docLink);\n",
              "        }\n",
              "      </script>\n",
              "    </div>\n",
              "  </div>\n",
              "  "
            ]
          },
          "metadata": {},
          "execution_count": 27
        }
      ],
      "source": [
        "X"
      ]
    },
    {
      "cell_type": "code",
      "execution_count": 28,
      "metadata": {
        "id": "_z8txAMrieVf",
        "colab": {
          "base_uri": "https://localhost:8080/"
        },
        "outputId": "3830ffa4-4226-43a5-a3bf-edfccc374340"
      },
      "outputs": [
        {
          "output_type": "execute_result",
          "data": {
            "text/plain": [
              "array([[ 0.49685449, -0.76482783, -0.59153182, ..., -1.08235726,\n",
              "        -0.00626813, -0.14309296],\n",
              "       [ 0.16782848, -0.18244471, -1.01565934, ..., -1.01193924,\n",
              "        -0.40691395,  0.23385512],\n",
              "       [ 1.18580322, -0.39374571, -0.23174938, ..., -1.28424288,\n",
              "        -0.70395454, -0.13090651],\n",
              "       ...,\n",
              "       [ 2.10224678, -0.34747029, -0.53156049, ..., -0.84449648,\n",
              "        -0.95228077,  0.19655109],\n",
              "       [-0.02488215, -0.41388056, -0.85040293, ...,  1.22319304,\n",
              "        -0.39193432,  0.09059811],\n",
              "       [-0.7124184 , -0.07643229, -0.45246151, ...,  1.15593188,\n",
              "         1.37550634, -0.36713035]])"
            ]
          },
          "metadata": {},
          "execution_count": 28
        }
      ],
      "source": [
        "# Reduce 558 features to 15 most significant ones\n",
        "\n",
        "X,y=make_regression(n_samples=751,n_informative=15, n_features=558, n_targets=12)\n",
        "X"
      ]
    },
    {
      "cell_type": "code",
      "execution_count": 29,
      "metadata": {
        "id": "824u6eGPgMMR"
      },
      "outputs": [],
      "source": [
        "# Train-test split\n",
        "\n",
        "X_train, X_test, y_train, y_test = train_test_split(X, y ,test_size = 0.2, random_state = 0)"
      ]
    },
    {
      "cell_type": "code",
      "execution_count": 30,
      "metadata": {
        "colab": {
          "base_uri": "https://localhost:8080/"
        },
        "id": "SB6_T3tngi0L",
        "outputId": "ddc6d969-3132-46d5-d279-1c5f5ba1e9ca"
      },
      "outputs": [
        {
          "output_type": "execute_result",
          "data": {
            "text/plain": [
              "31288.32888661364"
            ]
          },
          "metadata": {},
          "execution_count": 30
        }
      ],
      "source": [
        "# Random Forest Regressor\n",
        "\n",
        "parameters = {\n",
        "              'n_estimators': [100, 150, 200, 250, 300],\n",
        "              'max_depth': [1,2,3,4],\n",
        "              }\n",
        "regr = RandomForestRegressor(random_state=0)\n",
        "clf = GridSearchCV(regr, parameters)\n",
        "clf.fit(X_train, y_train)\n",
        "\n",
        "y_pred = clf.predict(X_test)\n",
        "mean_squared_error(y_test, y_pred)\n"
      ]
    },
    {
      "cell_type": "code",
      "execution_count": 31,
      "metadata": {
        "id": "QMTQwKH8GBHU"
      },
      "outputs": [],
      "source": [
        "# Decision Tree Regressor\n",
        "\n",
        "param_grid = {\"criterion\": [\"mse\", \"mae\"],\n",
        "              \"min_samples_split\": [10, 20, 40],\n",
        "              \"max_depth\": [2, 6, 8],\n",
        "              \"min_samples_leaf\": [20, 40, 100],\n",
        "              \"max_leaf_nodes\": [5, 20, 100],\n",
        "              }\n",
        "regressor = DecisionTreeRegressor(random_state = 0)\n",
        "clf = GridSearchCV(regressor, param_grid)\n",
        "clf.fit(X_train, y_train)\n",
        "\n",
        "y_pred = clf.predict(X_test)\n",
        "\n",
        "# Without GridSearchCV, MSE = 68007.84658553872\n"
      ]
    },
    {
      "cell_type": "code",
      "source": [
        "# MSE for Decision Tree Regressor\n",
        "mean_squared_error(y_test, y_pred)"
      ],
      "metadata": {
        "colab": {
          "base_uri": "https://localhost:8080/"
        },
        "id": "Pcb0IrsSVU8e",
        "outputId": "80c49540-d10a-4e55-f9cc-5328369ea7e4"
      },
      "execution_count": 32,
      "outputs": [
        {
          "output_type": "execute_result",
          "data": {
            "text/plain": [
              "40335.937797047474"
            ]
          },
          "metadata": {},
          "execution_count": 32
        }
      ]
    },
    {
      "cell_type": "code",
      "execution_count": 33,
      "metadata": {
        "id": "evaeLN-0m2xr"
      },
      "outputs": [],
      "source": [
        "# LinearRegression\n",
        "\n",
        "parameters = {'fit_intercept':[True,False], \n",
        "              'normalize':[True,False], \n",
        "              'copy_X':[True, False]\n",
        "              }\n",
        "model=LinearRegression()\n",
        "grid = GridSearchCV(model,parameters, cv=None)\n",
        "grid.fit(X_train, y_train)\n",
        "\n",
        "y_pred = grid.predict(X_test)\n"
      ]
    },
    {
      "cell_type": "code",
      "source": [
        "# MSE for Linear Regression\n",
        "mean_squared_error(y_test, y_pred) "
      ],
      "metadata": {
        "colab": {
          "base_uri": "https://localhost:8080/"
        },
        "id": "V9mcb20XT-N2",
        "outputId": "636b9e2e-6b8c-44ce-8d2c-ff97bece3d65"
      },
      "execution_count": 34,
      "outputs": [
        {
          "output_type": "execute_result",
          "data": {
            "text/plain": [
              "2.0360586047415985e-24"
            ]
          },
          "metadata": {},
          "execution_count": 34
        }
      ]
    },
    {
      "cell_type": "code",
      "execution_count": 35,
      "metadata": {
        "colab": {
          "base_uri": "https://localhost:8080/"
        },
        "id": "5m-hX10EFigS",
        "outputId": "9b07c37e-d94a-4467-bd8f-36bb19565a1e"
      },
      "outputs": [
        {
          "output_type": "stream",
          "name": "stdout",
          "text": [
            "47866.39062325116\n"
          ]
        }
      ],
      "source": [
        "# Polynomial Regression of degree = 2 without GridSearchCV\n",
        "\n",
        "from sklearn.preprocessing import PolynomialFeatures\n",
        "from sklearn.pipeline import make_pipeline\n",
        "degree=2\n",
        "polyreg = make_pipeline(PolynomialFeatures(degree),LinearRegression())\n",
        "polyreg.fit(X_train,y_train)\n",
        "y_pred = polyreg.predict(X_test)\n",
        "print(mean_squared_error(y_test, y_pred)) "
      ]
    },
    {
      "cell_type": "markdown",
      "metadata": {
        "id": "bOgS8AK4sqsx"
      },
      "source": [
        "### Conclusion : Linear Regression gave the best results for this dataset."
      ]
    }
  ],
  "metadata": {
    "colab": {
      "collapsed_sections": [],
      "name": "MultiTargetRegression.ipynb",
      "provenance": []
    },
    "kernelspec": {
      "display_name": "Python 3",
      "name": "python3"
    },
    "language_info": {
      "name": "python"
    }
  },
  "nbformat": 4,
  "nbformat_minor": 0
}